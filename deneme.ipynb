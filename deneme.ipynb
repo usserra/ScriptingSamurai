{
 "cells": [
  {
   "cell_type": "code",
   "execution_count": 2,
   "metadata": {},
   "outputs": [
    {
     "name": "stdout",
     "output_type": "stream",
     "text": [
      "AD-Soyad:serra, Sipaariş: Mercimek, Fiyat:10, Kalan Bütçe: 190\n",
      "AD-Soyad:serra, Sipaariş: Yayla Çorbası, Fiyat:12, Kalan Bütçe: 188\n"
     ]
    }
   ],
   "source": [
    "adS = input(\"Lütfen isim-soyisim giriniz\")\n",
    "Budget = int(input(\"Lütfen bütçenizi giriniz: \"))\n",
    "kisi = int(input(\"Lütfen kaç kişinin sipariş vereceğini giriniz: \"))\n",
    "class Menu:\n",
    "  def __init__(self,isim,fiyat):\n",
    "    self.isim = isim\n",
    "    self.fiyat = fiyat\n",
    "class Çorba(Menu):\n",
    "    def __init__(self, isim, fiyat ):\n",
    "      super().__init__(isim, fiyat)\n",
    "      #self.baharat = baharat\n",
    "    def CorbaBaharat(self):\n",
    "        by = int(input(\"Baharat istiyorsanız lütfen 1'e , baharat istemiyorsanız lütfen 0'a basın.\"))\n",
    "        if by == 1:\n",
    "            baharat = input(\"Lütfen baharatı giriniz:\")\n",
    "            print(f\"{baharat} ekleniyor\")\n",
    "        elif by == 0:\n",
    "            pass\n",
    "    def SiparisGoster(self):\n",
    "        print(f\"AD-Soyad:{adS}, Sipaariş: {self.isim}, Fiyat:{self.fiyat}, Kalan Bütçe: {Budget-self.fiyat}\")\n",
    "cmenusozluk = {\"1\" :['Mercimek', 10], \"2\" : [\"Yayla Çorbası\" , 12], \"3\" :[ \"Tarhana Çorbası\" , 15]}\n",
    " \n",
    "\n",
    "x =  int(input(\"Lütfen kac adet çorba siparis edeceginizi giriniz: \"))\n",
    "\n",
    "for c in range(x):\n",
    "    alınan = input(\"Lutfen {} numarali sıparısinizi gırınız\" .format(c+1) )\n",
    "           \n",
    "    corba =Çorba(isim=cmenusozluk[(alınan)][0], fiyat= cmenusozluk[alınan][1])\n",
    "    corba.CorbaBaharat()\n",
    "    corba.SiparisGoster()\n",
    "            "
   ]
  }
 ],
 "metadata": {
  "kernelspec": {
   "display_name": "Python 3",
   "language": "python",
   "name": "python3"
  },
  "language_info": {
   "codemirror_mode": {
    "name": "ipython",
    "version": 3
   },
   "file_extension": ".py",
   "mimetype": "text/x-python",
   "name": "python",
   "nbconvert_exporter": "python",
   "pygments_lexer": "ipython3",
   "version": "3.11.1"
  },
  "orig_nbformat": 4,
  "vscode": {
   "interpreter": {
    "hash": "aee8b7b246df8f9039afb4144a1f6fd8d2ca17a180786b69acc140d282b71a49"
   }
  }
 },
 "nbformat": 4,
 "nbformat_minor": 2
}
