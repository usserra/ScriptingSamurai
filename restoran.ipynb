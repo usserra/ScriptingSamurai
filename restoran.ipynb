Margarita : 1
 VeggiePizza: 0
 EtliPizza: 0
